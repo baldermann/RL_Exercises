{
 "cells": [
  {
   "cell_type": "markdown",
   "id": "2f3ac2ed",
   "metadata": {},
   "source": [
    "\n",
    "\n",
    "## CartPole-v1 Environment\n",
    "\n",
    "In this notebook, we use the widely used CartPole environment version 1.\n",
    "\n",
    "\n",
    "![CartPole](../assets/cart_pole.gif)\n",
    "\n",
    "**Action Space** - Type : ```Discrete(2)```\n",
    "\n",
    "- ```0``` : Push cart to the left\n",
    "- ```1``` : Push cart to the right\n",
    "\n",
    "**Observation Space** - Type : ```Box(-num, num, (4,), float32)```\n",
    "\n",
    "- Cart Position ```(-4.8, 4.8)```\n",
    "- Cart Velocity ```(-inf, inf)```\n",
    "- Pole Angle ```(-0.41, 0.41)```\n",
    "- Pole Velocity At Tip ```(-inf, inf)```\n",
    "\n",
    "**Reward** - Type : ```float32```\n",
    "\n",
    "It always returns ```1.0``` as reward.<br>\n",
    "If completely succeeded, you can then take max ```500.0``` rewards in a single episode, because a single episode will be truncated on max ```500``` actions.\n",
    "\n",
    "**Done Flag (Termination and Truncation)** - Type : ```bool```\n",
    "\n",
    "It returns the following 2 types of done flag, which is used to check whether the episode is done or not.\n",
    "\n",
    "- Termination flag : When the agent fails and cannot work any more, termination flag is ```True```, otherwise ```False```.\n",
    "- Truncation flag : When the agent reaches to max 500 actions (successful at final action), truncation flag is ```True```, otherwise ```False```. (The agent cannot work any more, also in this case.)\n",
    "\n",
    "**Sample Code to run CartPole**\n",
    "\n",
    "Here is the sample source code to run CartPole agent."
   ]
  },
  {
   "cell_type": "code",
   "execution_count": null,
   "id": "6e732a26",
   "metadata": {},
   "outputs": [],
   "source": [
    "import gymnasium as gym\n",
    "import random\n",
    "\n",
    "def pick_sample():\n",
    "  return random.randint(0, 1)\n",
    "\n",
    "env = gym.make(\"CartPole-v1\",render_mode='human')\n",
    "for i in range(1):\n",
    "  print(\"start episode {}\".format(i))\n",
    "  done = False\n",
    "  s, _ = env.reset()\n",
    "  while not done:\n",
    "    a = pick_sample()\n",
    "    s, r, term, trunc, _ = env.step(a)\n",
    "    done = term or trunc\n",
    "    print(\"action: {},  reward: {}\".format(a, r))\n",
    "    print(\"state: {}, {}, {}, {}\".format(s[0], s[1], s[2], s[3]))\n",
    "\n",
    "env.close()\n",
    "\n"
   ]
  },
  {
   "cell_type": "code",
   "execution_count": null,
   "id": "7ce6dcea",
   "metadata": {},
   "outputs": [],
   "source": []
  }
 ],
 "metadata": {
  "kernelspec": {
   "display_name": "RL",
   "language": "python",
   "name": "python3"
  },
  "language_info": {
   "codemirror_mode": {
    "name": "ipython",
    "version": 3
   },
   "file_extension": ".py",
   "mimetype": "text/x-python",
   "name": "python",
   "nbconvert_exporter": "python",
   "pygments_lexer": "ipython3",
   "version": "3.12.3"
  }
 },
 "nbformat": 4,
 "nbformat_minor": 5
}
